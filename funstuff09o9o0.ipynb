{
  "nbformat": 4,
  "nbformat_minor": 0,
  "metadata": {
    "colab": {
      "name": "funstuff09o9o0.ipynb",
      "provenance": [],
      "authorship_tag": "ABX9TyPaJoL8Z4E8w2wVCAvsw2u+",
      "include_colab_link": true
    },
    "kernelspec": {
      "name": "python3",
      "display_name": "Python 3"
    }
  },
  "cells": [
    {
      "cell_type": "markdown",
      "metadata": {
        "id": "view-in-github",
        "colab_type": "text"
      },
      "source": [
        "<a href=\"https://colab.research.google.com/github/beattiee98/qtm250-Project1/blob/master/funstuff09o9o0.ipynb\" target=\"_parent\"><img src=\"https://colab.research.google.com/assets/colab-badge.svg\" alt=\"Open In Colab\"/></a>"
      ]
    },
    {
      "cell_type": "markdown",
      "metadata": {
        "id": "ZxPJyUBYQj4I",
        "colab_type": "text"
      },
      "source": [
        "# Project Template\n",
        "Here we will demonstrate some of the features you will use in your project.\n",
        "\n",
        "##Adding images\n",
        "google cloud can be used to store an image and give you a shorter link.\n",
        "\n",
        "## Google Cloud Storage\n",
        "We saw how to use a bucket in GCP to make such a link\n",
        "\n",
        "![alt text](https://storage.cloud.google.com/beattie-bucket1/Tommy.jfif?_ga=2.268146894.-1991294357.1580096878&_gac=1.56806744.1580317685.CjwKCAiA98TxBRBtEiwAVRLqu2LvqXo6gnE7FwrDRlsT1xvsNrJDQLIYX91kkc-JkUZZ3yzak6qPGRoCu5IQAvD_BwE)\n",
        "\n",
        "###Github\n",
        "We created a new repository in our Github and added it there. Then we added raw=true to the end of the url for the image's Github page.\n",
        "\n",
        "![Github tommy image](Tommy.jfif)\n"
      ]
    },
    {
      "cell_type": "markdown",
      "metadata": {
        "id": "9ejPESx6YXQq",
        "colab_type": "text"
      },
      "source": [
        "### Recall Markdown\n",
        "Quotes can be added with\n",
        "> \"To be or not to be\""
      ]
    },
    {
      "cell_type": "markdown",
      "metadata": {
        "id": "0iEmryC0RTnv",
        "colab_type": "text"
      },
      "source": [
        "# qtm250-Project1\n",
        "Project files and template"
      ]
    },
    {
      "cell_type": "code",
      "metadata": {
        "id": "B3Mfk5NUbVFe",
        "colab_type": "code",
        "colab": {}
      },
      "source": [
        "import pandas as pd\n",
        "d.read.csv"
      ],
      "execution_count": 0,
      "outputs": []
    },
    {
      "cell_type": "code",
      "metadata": {
        "id": "vuOcmUoVW_LD",
        "colab_type": "code",
        "colab": {}
      },
      "source": [
        ""
      ],
      "execution_count": 0,
      "outputs": []
    }
  ]
}